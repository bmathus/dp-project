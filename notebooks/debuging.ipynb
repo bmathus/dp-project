{
 "cells": [
  {
   "cell_type": "code",
   "execution_count": 1,
   "metadata": {},
   "outputs": [
    {
     "name": "stdout",
     "output_type": "stream",
     "text": [
      "/Users/matusbojko/Desktop/dp-project\n"
     ]
    },
    {
     "name": "stderr",
     "output_type": "stream",
     "text": [
      "/Users/matusbojko/Desktop/dp-project/.venv/lib/python3.12/site-packages/IPython/core/magics/osm.py:417: UserWarning: This is now an optional IPython functionality, setting dhist requires you to install the `pickleshare` library.\n",
      "  self.shell.db['dhist'] = compress_dhist(dhist)[-100:]\n"
     ]
    }
   ],
   "source": [
    "%cd .."
   ]
  },
  {
   "cell_type": "code",
   "execution_count": 2,
   "metadata": {},
   "outputs": [],
   "source": [
    "from project.models.unet import UNet\n",
    "import torch\n",
    "from torch import nn\n",
    "from torchsummary import summary"
   ]
  },
  {
   "cell_type": "code",
   "execution_count": 3,
   "metadata": {},
   "outputs": [],
   "source": [
    "channels = 1024\n",
    "height = 28\n",
    "width = 28\n",
    "\n",
    "random_tensor1 = torch.randn(1,channels, height, width)\n",
    "random_tensor2 = torch.randn(1,512, 56, 56)"
   ]
  },
  {
   "cell_type": "code",
   "execution_count": 3,
   "metadata": {},
   "outputs": [
    {
     "data": {
      "text/plain": [
       "torch.Size([64, 56, 56])"
      ]
     },
     "execution_count": 3,
     "metadata": {},
     "output_type": "execute_result"
    }
   ],
   "source": [
    "tens = torch.randn(64, 56, 56)\n",
    "\n",
    "con = nn.Conv2d(64,64,(3,3),stride=1, padding=1)\n",
    "\n",
    "o = con(tens)\n",
    "\n",
    "o.shape\n"
   ]
  },
  {
   "cell_type": "code",
   "execution_count": 4,
   "metadata": {},
   "outputs": [
    {
     "data": {
      "text/plain": [
       "torch.Size([1, 64, 1024, 1024])"
      ]
     },
     "execution_count": 4,
     "metadata": {},
     "output_type": "execute_result"
    }
   ],
   "source": [
    "input_img = torch.randn(1,3, 1024, 1024)\n",
    "\n",
    "input_img.to(\"mps\")\n",
    "model = UNet(3,10)\n",
    "\n",
    "\n",
    "out = model(input_img)\n",
    "\n",
    "out.shape"
   ]
  },
  {
   "cell_type": "code",
   "execution_count": 5,
   "metadata": {},
   "outputs": [
    {
     "name": "stdout",
     "output_type": "stream",
     "text": [
      "----------------------------------------------------------------\n",
      "        Layer (type)               Output Shape         Param #\n",
      "================================================================\n",
      "            Conv2d-1       [-1, 64, 1024, 1024]           1,792\n",
      "              ReLU-2       [-1, 64, 1024, 1024]               0\n",
      "            Conv2d-3       [-1, 64, 1024, 1024]          36,928\n",
      "              ReLU-4       [-1, 64, 1024, 1024]               0\n",
      "         MaxPool2d-5         [-1, 64, 512, 512]               0\n",
      "            Conv2d-6        [-1, 128, 512, 512]          73,856\n",
      "              ReLU-7        [-1, 128, 512, 512]               0\n",
      "            Conv2d-8        [-1, 128, 512, 512]         147,584\n",
      "              ReLU-9        [-1, 128, 512, 512]               0\n",
      "     EncoderBlock-10        [-1, 128, 512, 512]               0\n",
      "        MaxPool2d-11        [-1, 128, 256, 256]               0\n",
      "           Conv2d-12        [-1, 256, 256, 256]         295,168\n",
      "             ReLU-13        [-1, 256, 256, 256]               0\n",
      "           Conv2d-14        [-1, 256, 256, 256]         590,080\n",
      "             ReLU-15        [-1, 256, 256, 256]               0\n",
      "     EncoderBlock-16        [-1, 256, 256, 256]               0\n",
      "        MaxPool2d-17        [-1, 256, 128, 128]               0\n",
      "           Conv2d-18        [-1, 512, 128, 128]       1,180,160\n",
      "             ReLU-19        [-1, 512, 128, 128]               0\n",
      "           Conv2d-20        [-1, 512, 128, 128]       2,359,808\n",
      "             ReLU-21        [-1, 512, 128, 128]               0\n",
      "     EncoderBlock-22        [-1, 512, 128, 128]               0\n",
      "        MaxPool2d-23          [-1, 512, 64, 64]               0\n",
      "           Conv2d-24         [-1, 1024, 64, 64]       4,719,616\n",
      "             ReLU-25         [-1, 1024, 64, 64]               0\n",
      "           Conv2d-26         [-1, 1024, 64, 64]       9,438,208\n",
      "             ReLU-27         [-1, 1024, 64, 64]               0\n",
      "     EncoderBlock-28         [-1, 1024, 64, 64]               0\n",
      "  ConvTranspose2d-29        [-1, 512, 128, 128]       2,097,664\n",
      "           Conv2d-30        [-1, 512, 128, 128]       4,719,104\n",
      "             ReLU-31        [-1, 512, 128, 128]               0\n",
      "           Conv2d-32        [-1, 512, 128, 128]       2,359,808\n",
      "             ReLU-33        [-1, 512, 128, 128]               0\n",
      "     DecoderBlock-34        [-1, 512, 128, 128]               0\n",
      "  ConvTranspose2d-35        [-1, 256, 256, 256]         524,544\n",
      "           Conv2d-36        [-1, 256, 256, 256]       1,179,904\n",
      "             ReLU-37        [-1, 256, 256, 256]               0\n",
      "           Conv2d-38        [-1, 256, 256, 256]         590,080\n",
      "             ReLU-39        [-1, 256, 256, 256]               0\n",
      "     DecoderBlock-40        [-1, 256, 256, 256]               0\n",
      "  ConvTranspose2d-41        [-1, 128, 512, 512]         131,200\n",
      "           Conv2d-42        [-1, 128, 512, 512]         295,040\n",
      "             ReLU-43        [-1, 128, 512, 512]               0\n",
      "           Conv2d-44        [-1, 128, 512, 512]         147,584\n",
      "             ReLU-45        [-1, 128, 512, 512]               0\n",
      "     DecoderBlock-46        [-1, 128, 512, 512]               0\n",
      "  ConvTranspose2d-47       [-1, 64, 1024, 1024]          32,832\n",
      "           Conv2d-48       [-1, 64, 1024, 1024]          73,792\n",
      "             ReLU-49       [-1, 64, 1024, 1024]               0\n",
      "           Conv2d-50       [-1, 64, 1024, 1024]          36,928\n",
      "             ReLU-51       [-1, 64, 1024, 1024]               0\n",
      "     DecoderBlock-52       [-1, 64, 1024, 1024]               0\n",
      "================================================================\n",
      "Total params: 31,031,680\n",
      "Trainable params: 31,031,680\n",
      "Non-trainable params: 0\n",
      "----------------------------------------------------------------\n",
      "Input size (MB): 12.00\n",
      "Forward/backward pass size (MB): 10448.00\n",
      "Params size (MB): 118.38\n",
      "Estimated Total Size (MB): 10578.38\n",
      "----------------------------------------------------------------\n"
     ]
    }
   ],
   "source": [
    "summary(model,(3,1024,1024))"
   ]
  }
 ],
 "metadata": {
  "kernelspec": {
   "display_name": ".venv",
   "language": "python",
   "name": "python3"
  },
  "language_info": {
   "codemirror_mode": {
    "name": "ipython",
    "version": 3
   },
   "file_extension": ".py",
   "mimetype": "text/x-python",
   "name": "python",
   "nbconvert_exporter": "python",
   "pygments_lexer": "ipython3",
   "version": "3.12.4"
  }
 },
 "nbformat": 4,
 "nbformat_minor": 2
}
