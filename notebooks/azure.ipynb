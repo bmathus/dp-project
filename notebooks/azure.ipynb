{
 "cells": [
  {
   "cell_type": "code",
   "execution_count": 53,
   "metadata": {},
   "outputs": [
    {
     "name": "stdout",
     "output_type": "stream",
     "text": [
      "Azure ML SDK Version:  1.58.0\n"
     ]
    }
   ],
   "source": [
    "import os\n",
    "import azureml.core\n",
    "from azureml.core import Workspace\n",
    "from azureml.core import Experiment\n",
    "from azureml.core.environment import Environment\n",
    "from azureml.core import ScriptRunConfig\n",
    "from azureml.core import Dataset\n",
    "from azureml.data.datapath import DataPath\n",
    "from azureml.core.authentication import InteractiveLoginAuthentication\n",
    "\n",
    "print(\"Azure ML SDK Version: \", azureml.core.VERSION)"
   ]
  },
  {
   "cell_type": "code",
   "execution_count": 54,
   "metadata": {},
   "outputs": [],
   "source": [
    "ws = Workspace.from_config(path='notebooks/config.json', auth=InteractiveLoginAuthentication())\n",
    "dataset = Dataset.get_by_name(workspace=ws, name='xbojko-acdc')"
   ]
  },
  {
   "cell_type": "code",
   "execution_count": null,
   "metadata": {},
   "outputs": [],
   "source": []
  },
  {
   "cell_type": "code",
   "execution_count": 55,
   "metadata": {},
   "outputs": [],
   "source": [
    "config = ScriptRunConfig(\n",
    "    source_directory='../',\n",
    "    script='run/train.py',\n",
    "    arguments=[\n",
    "        '--wandb', \"584287ef3bc4e3311465171c04c9525858e97893\",\n",
    "        '--data_path', dataset.as_mount()\n",
    "    ],\n",
    "    compute_target='v100-xbojko') # Compute target is your created compute cluster"
   ]
  },
  {
   "cell_type": "code",
   "execution_count": 56,
   "metadata": {},
   "outputs": [
    {
     "data": {
      "text/plain": [
       "<bound method FileDataset.file_metadata of {\n",
       "  \"definition\": \"EnginelessDataflow:\\n---\\ntype: mltable\\npaths:\\n  - pattern: \\\"azureml://subscriptions/bc82dccd-f19d-42cb-9ce3-0d5df33ef086/resourcegroups/a0047-STUFIIT-ML01/workspaces/a0047stufiitml01/datastores/workspaceblobstore/paths/datasets/xbojko-data/ACDC/**\\\"\\nmetadata:\\n  infer_column_types: \\\"False\\\"\\n\",\n",
       "  \"registration\": {\n",
       "    \"id\": \"8f68d493-124b-4fca-85cf-92020e288da3\",\n",
       "    \"name\": \"xbojko-acdc\",\n",
       "    \"version\": 1,\n",
       "    \"workspace\": \"Workspace.create(name='a0047stufiitml01', subscription_id='bc82dccd-f19d-42cb-9ce3-0d5df33ef086', resource_group='a0047-STUFIIT-ML01')\"\n",
       "  }\n",
       "}>"
      ]
     },
     "execution_count": 56,
     "metadata": {},
     "output_type": "execute_result"
    }
   ],
   "source": []
  },
  {
   "cell_type": "code",
   "execution_count": 5,
   "metadata": {},
   "outputs": [],
   "source": [
    "datastore = Datastore.get_default(ws)"
   ]
  },
  {
   "cell_type": "code",
   "execution_count": null,
   "metadata": {},
   "outputs": [],
   "source": []
  }
 ],
 "metadata": {
  "kernelspec": {
   "display_name": "Python 3 (ipykernel)",
   "language": "python",
   "name": "python3"
  },
  "language_info": {
   "codemirror_mode": {
    "name": "ipython",
    "version": 3
   },
   "file_extension": ".py",
   "mimetype": "text/x-python",
   "name": "python",
   "nbconvert_exporter": "python",
   "pygments_lexer": "ipython3",
   "version": "3.10.11"
  }
 },
 "nbformat": 4,
 "nbformat_minor": 2
}
