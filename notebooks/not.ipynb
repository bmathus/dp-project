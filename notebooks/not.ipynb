{
 "cells": [
  {
   "cell_type": "code",
   "execution_count": 4,
   "id": "d3e4adec",
   "metadata": {},
   "outputs": [
    {
     "name": "stdout",
     "output_type": "stream",
     "text": [
      "Scale 1\n",
      "88\n",
      "Scale 2\n",
      "44\n",
      "Scale 3\n",
      "54\n"
     ]
    }
   ],
   "source": [
    "l = [88,44,54]\n",
    "for scale_num in range(0,3):\n",
    "\n",
    "    print(f\"Scale {scale_num + 1}\")\n",
    "    print(l[scale_num])"
   ]
  }
 ],
 "metadata": {
  "kernelspec": {
   "display_name": ".venv",
   "language": "python",
   "name": "python3"
  },
  "language_info": {
   "codemirror_mode": {
    "name": "ipython",
    "version": 3
   },
   "file_extension": ".py",
   "mimetype": "text/x-python",
   "name": "python",
   "nbconvert_exporter": "python",
   "pygments_lexer": "ipython3",
   "version": "3.10.14"
  }
 },
 "nbformat": 4,
 "nbformat_minor": 5
}
