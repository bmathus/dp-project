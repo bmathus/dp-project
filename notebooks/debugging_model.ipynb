{
 "cells": [
  {
   "cell_type": "code",
   "execution_count": 1,
   "metadata": {},
   "outputs": [
    {
     "name": "stdout",
     "output_type": "stream",
     "text": [
      "/Users/matusbojko/Desktop/dp-project\n"
     ]
    },
    {
     "name": "stderr",
     "output_type": "stream",
     "text": [
      "/Users/matusbojko/Desktop/dp-project/.venv/lib/python3.10/site-packages/IPython/core/magics/osm.py:417: UserWarning: This is now an optional IPython functionality, setting dhist requires you to install the `pickleshare` library.\n",
      "  self.shell.db['dhist'] = compress_dhist(dhist)[-100:]\n"
     ]
    }
   ],
   "source": [
    "%cd .."
   ]
  },
  {
   "cell_type": "code",
   "execution_count": null,
   "metadata": {},
   "outputs": [],
   "source": []
  },
  {
   "cell_type": "code",
   "execution_count": 6,
   "metadata": {},
   "outputs": [],
   "source": [
    "from project.models.unet_hybrid import MSDNet\n",
    "from project.models.unet_urpc import UNet_URPC\n",
    "from torchsummary import summary\n",
    "import torch"
   ]
  },
  {
   "cell_type": "code",
   "execution_count": 5,
   "metadata": {},
   "outputs": [
    {
     "data": {
      "text/plain": [
       "tensor([0])"
      ]
     },
     "execution_count": 5,
     "metadata": {},
     "output_type": "execute_result"
    }
   ],
   "source": [
    "torch.tensor((0,))"
   ]
  },
  {
   "cell_type": "code",
   "execution_count": 10,
   "metadata": {},
   "outputs": [
    {
     "name": "stdout",
     "output_type": "stream",
     "text": [
      "==========================================================================================\n",
      "Layer (type:depth-idx)                   Output Shape              Param #\n",
      "==========================================================================================\n",
      "├─Encoder: 1-1                           [-1, 16, 224, 224]        --\n",
      "|    └─ConvBlock: 2-1                    [-1, 16, 224, 224]        --\n",
      "|    |    └─Sequential: 3-1              [-1, 16, 224, 224]        2,544\n",
      "|    └─DownBlock: 2-2                    [-1, 32, 112, 112]        --\n",
      "|    |    └─Sequential: 3-2              [-1, 32, 112, 112]        14,016\n",
      "|    └─DownBlock: 2-3                    [-1, 64, 56, 56]          --\n",
      "|    |    └─Sequential: 3-3              [-1, 64, 56, 56]          55,680\n",
      "|    └─DownBlock: 2-4                    [-1, 128, 28, 28]         --\n",
      "|    |    └─Sequential: 3-4              [-1, 128, 28, 28]         221,952\n",
      "|    └─DownBlock: 2-5                    [-1, 256, 14, 14]         --\n",
      "|    |    └─Sequential: 3-5              [-1, 256, 14, 14]         886,272\n",
      "├─DecoderMS: 1-2                         [-1, 4, 224, 224]         --\n",
      "|    └─UpBlock: 2-6                      [-1, 128, 28, 28]         --\n",
      "|    |    └─Conv2d: 3-6                  [-1, 128, 14, 14]         32,896\n",
      "|    |    └─Upsample: 3-7                [-1, 128, 28, 28]         --\n",
      "|    |    └─ConvBlock: 3-8               [-1, 128, 28, 28]         443,136\n",
      "|    └─Conv2d: 2-7                       [-1, 4, 28, 28]           4,612\n",
      "|    └─UpBlock: 2-8                      [-1, 64, 56, 56]          --\n",
      "|    |    └─Conv2d: 3-9                  [-1, 64, 28, 28]          8,256\n",
      "|    |    └─Upsample: 3-10               [-1, 64, 56, 56]          --\n",
      "|    |    └─ConvBlock: 3-11              [-1, 64, 56, 56]          110,976\n",
      "|    └─Conv2d: 2-9                       [-1, 4, 56, 56]           2,308\n",
      "|    └─UpBlock: 2-10                     [-1, 32, 112, 112]        --\n",
      "|    |    └─Conv2d: 3-12                 [-1, 32, 56, 56]          2,080\n",
      "|    |    └─Upsample: 3-13               [-1, 32, 112, 112]        --\n",
      "|    |    └─ConvBlock: 3-14              [-1, 32, 112, 112]        27,840\n",
      "|    └─Conv2d: 2-11                      [-1, 4, 112, 112]         1,156\n",
      "|    └─UpBlock: 2-12                     [-1, 16, 224, 224]        --\n",
      "|    |    └─Conv2d: 3-15                 [-1, 16, 112, 112]        528\n",
      "|    |    └─Upsample: 3-16               [-1, 16, 224, 224]        --\n",
      "|    |    └─ConvBlock: 3-17              [-1, 16, 224, 224]        7,008\n",
      "|    └─Conv2d: 2-13                      [-1, 4, 224, 224]         580\n",
      "├─DecoderMS: 1-3                         [-1, 4, 224, 224]         --\n",
      "|    └─UpBlock: 2-14                     [-1, 128, 28, 28]         --\n",
      "|    |    └─ConvTranspose2d: 3-18        [-1, 128, 28, 28]         131,200\n",
      "|    |    └─ConvBlock: 3-19              [-1, 128, 28, 28]         443,136\n",
      "|    └─Conv2d: 2-15                      [-1, 4, 28, 28]           4,612\n",
      "|    └─UpBlock: 2-16                     [-1, 64, 56, 56]          --\n",
      "|    |    └─ConvTranspose2d: 3-20        [-1, 64, 56, 56]          32,832\n",
      "|    |    └─ConvBlock: 3-21              [-1, 64, 56, 56]          110,976\n",
      "|    └─Conv2d: 2-17                      [-1, 4, 56, 56]           2,308\n",
      "|    └─UpBlock: 2-18                     [-1, 32, 112, 112]        --\n",
      "|    |    └─ConvTranspose2d: 3-22        [-1, 32, 112, 112]        8,224\n",
      "|    |    └─ConvBlock: 3-23              [-1, 32, 112, 112]        27,840\n",
      "|    └─Conv2d: 2-19                      [-1, 4, 112, 112]         1,156\n",
      "|    └─UpBlock: 2-20                     [-1, 16, 224, 224]        --\n",
      "|    |    └─ConvTranspose2d: 3-24        [-1, 16, 224, 224]        2,064\n",
      "|    |    └─ConvBlock: 3-25              [-1, 16, 224, 224]        7,008\n",
      "|    └─Conv2d: 2-21                      [-1, 4, 224, 224]         580\n",
      "==========================================================================================\n",
      "Total params: 2,593,776\n",
      "Trainable params: 2,593,776\n",
      "Non-trainable params: 0\n",
      "Total mult-adds (M): 677.83\n",
      "==========================================================================================\n",
      "Input size (MB): 0.19\n",
      "Forward/backward pass size (MB): 42.92\n",
      "Params size (MB): 9.89\n",
      "Estimated Total Size (MB): 53.01\n",
      "==========================================================================================\n"
     ]
    },
    {
     "data": {
      "text/plain": [
       "==========================================================================================\n",
       "Layer (type:depth-idx)                   Output Shape              Param #\n",
       "==========================================================================================\n",
       "├─Encoder: 1-1                           [-1, 16, 224, 224]        --\n",
       "|    └─ConvBlock: 2-1                    [-1, 16, 224, 224]        --\n",
       "|    |    └─Sequential: 3-1              [-1, 16, 224, 224]        2,544\n",
       "|    └─DownBlock: 2-2                    [-1, 32, 112, 112]        --\n",
       "|    |    └─Sequential: 3-2              [-1, 32, 112, 112]        14,016\n",
       "|    └─DownBlock: 2-3                    [-1, 64, 56, 56]          --\n",
       "|    |    └─Sequential: 3-3              [-1, 64, 56, 56]          55,680\n",
       "|    └─DownBlock: 2-4                    [-1, 128, 28, 28]         --\n",
       "|    |    └─Sequential: 3-4              [-1, 128, 28, 28]         221,952\n",
       "|    └─DownBlock: 2-5                    [-1, 256, 14, 14]         --\n",
       "|    |    └─Sequential: 3-5              [-1, 256, 14, 14]         886,272\n",
       "├─DecoderMS: 1-2                         [-1, 4, 224, 224]         --\n",
       "|    └─UpBlock: 2-6                      [-1, 128, 28, 28]         --\n",
       "|    |    └─Conv2d: 3-6                  [-1, 128, 14, 14]         32,896\n",
       "|    |    └─Upsample: 3-7                [-1, 128, 28, 28]         --\n",
       "|    |    └─ConvBlock: 3-8               [-1, 128, 28, 28]         443,136\n",
       "|    └─Conv2d: 2-7                       [-1, 4, 28, 28]           4,612\n",
       "|    └─UpBlock: 2-8                      [-1, 64, 56, 56]          --\n",
       "|    |    └─Conv2d: 3-9                  [-1, 64, 28, 28]          8,256\n",
       "|    |    └─Upsample: 3-10               [-1, 64, 56, 56]          --\n",
       "|    |    └─ConvBlock: 3-11              [-1, 64, 56, 56]          110,976\n",
       "|    └─Conv2d: 2-9                       [-1, 4, 56, 56]           2,308\n",
       "|    └─UpBlock: 2-10                     [-1, 32, 112, 112]        --\n",
       "|    |    └─Conv2d: 3-12                 [-1, 32, 56, 56]          2,080\n",
       "|    |    └─Upsample: 3-13               [-1, 32, 112, 112]        --\n",
       "|    |    └─ConvBlock: 3-14              [-1, 32, 112, 112]        27,840\n",
       "|    └─Conv2d: 2-11                      [-1, 4, 112, 112]         1,156\n",
       "|    └─UpBlock: 2-12                     [-1, 16, 224, 224]        --\n",
       "|    |    └─Conv2d: 3-15                 [-1, 16, 112, 112]        528\n",
       "|    |    └─Upsample: 3-16               [-1, 16, 224, 224]        --\n",
       "|    |    └─ConvBlock: 3-17              [-1, 16, 224, 224]        7,008\n",
       "|    └─Conv2d: 2-13                      [-1, 4, 224, 224]         580\n",
       "├─DecoderMS: 1-3                         [-1, 4, 224, 224]         --\n",
       "|    └─UpBlock: 2-14                     [-1, 128, 28, 28]         --\n",
       "|    |    └─ConvTranspose2d: 3-18        [-1, 128, 28, 28]         131,200\n",
       "|    |    └─ConvBlock: 3-19              [-1, 128, 28, 28]         443,136\n",
       "|    └─Conv2d: 2-15                      [-1, 4, 28, 28]           4,612\n",
       "|    └─UpBlock: 2-16                     [-1, 64, 56, 56]          --\n",
       "|    |    └─ConvTranspose2d: 3-20        [-1, 64, 56, 56]          32,832\n",
       "|    |    └─ConvBlock: 3-21              [-1, 64, 56, 56]          110,976\n",
       "|    └─Conv2d: 2-17                      [-1, 4, 56, 56]           2,308\n",
       "|    └─UpBlock: 2-18                     [-1, 32, 112, 112]        --\n",
       "|    |    └─ConvTranspose2d: 3-22        [-1, 32, 112, 112]        8,224\n",
       "|    |    └─ConvBlock: 3-23              [-1, 32, 112, 112]        27,840\n",
       "|    └─Conv2d: 2-19                      [-1, 4, 112, 112]         1,156\n",
       "|    └─UpBlock: 2-20                     [-1, 16, 224, 224]        --\n",
       "|    |    └─ConvTranspose2d: 3-24        [-1, 16, 224, 224]        2,064\n",
       "|    |    └─ConvBlock: 3-25              [-1, 16, 224, 224]        7,008\n",
       "|    └─Conv2d: 2-21                      [-1, 4, 224, 224]         580\n",
       "==========================================================================================\n",
       "Total params: 2,593,776\n",
       "Trainable params: 2,593,776\n",
       "Non-trainable params: 0\n",
       "Total mult-adds (M): 677.83\n",
       "==========================================================================================\n",
       "Input size (MB): 0.19\n",
       "Forward/backward pass size (MB): 42.92\n",
       "Params size (MB): 9.89\n",
       "Estimated Total Size (MB): 53.01\n",
       "=========================================================================================="
      ]
     },
     "execution_count": 10,
     "metadata": {},
     "output_type": "execute_result"
    }
   ],
   "source": [
    "channels = 1\n",
    "height = 224\n",
    "width = 224\n",
    "\n",
    "random_tensor1 = torch.randn(1,channels, height, width)\n",
    "\n",
    "\n",
    "\n",
    "UNET = UNet_URPC(3,5)\n",
    "msd = MSDNet(1,4)\n",
    "\n",
    "\n",
    "summary(msd,(channels,height,width))\n"
   ]
  },
  {
   "cell_type": "code",
   "execution_count": 3,
   "metadata": {},
   "outputs": [],
   "source": [
    "channels = 3\n",
    "height = 512\n",
    "width = 512\n",
    "\n",
    "random_tensor1 = torch.randn(1,channels, height, width)\n",
    "\n",
    "msdnet = MSDNet(3,4)\n",
    "\n",
    "[out1,_,_,_],[out2,_,_,_] = msdnet(random_tensor1)\n",
    "\n",
    "\n"
   ]
  },
  {
   "cell_type": "code",
   "execution_count": 4,
   "metadata": {},
   "outputs": [
    {
     "name": "stdout",
     "output_type": "stream",
     "text": [
      "1\n",
      "2\n",
      "3\n"
     ]
    }
   ],
   "source": [
    "for i in range(1,4):\n",
    "    print(i)\n",
    "\n"
   ]
  }
 ],
 "metadata": {
  "kernelspec": {
   "display_name": ".venv",
   "language": "python",
   "name": "python3"
  },
  "language_info": {
   "codemirror_mode": {
    "name": "ipython",
    "version": 3
   },
   "file_extension": ".py",
   "mimetype": "text/x-python",
   "name": "python",
   "nbconvert_exporter": "python",
   "pygments_lexer": "ipython3",
   "version": "3.10.14"
  }
 },
 "nbformat": 4,
 "nbformat_minor": 2
}
