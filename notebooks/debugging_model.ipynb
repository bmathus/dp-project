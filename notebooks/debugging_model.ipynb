{
 "cells": [
  {
   "cell_type": "code",
   "execution_count": 1,
   "metadata": {},
   "outputs": [
    {
     "name": "stdout",
     "output_type": "stream",
     "text": [
      "/Users/matusbojko/Desktop/dp-project\n"
     ]
    },
    {
     "name": "stderr",
     "output_type": "stream",
     "text": [
      "/Users/matusbojko/Desktop/dp-project/.venv/lib/python3.12/site-packages/IPython/core/magics/osm.py:417: UserWarning: This is now an optional IPython functionality, setting dhist requires you to install the `pickleshare` library.\n",
      "  self.shell.db['dhist'] = compress_dhist(dhist)[-100:]\n"
     ]
    }
   ],
   "source": [
    "%cd .."
   ]
  },
  {
   "cell_type": "code",
   "execution_count": 2,
   "metadata": {},
   "outputs": [],
   "source": [
    "from project.models.model import MultiLayerPerceptron\n",
    "import torch"
   ]
  },
  {
   "cell_type": "code",
   "execution_count": 21,
   "metadata": {},
   "outputs": [
    {
     "name": "stdout",
     "output_type": "stream",
     "text": [
      "tensor([[ 0.0368,  0.1323,  0.1090,  0.0631,  0.0600, -0.2118, -0.2887,  0.1013,\n",
      "         -0.3604,  0.2183],\n",
      "        [ 0.0722,  0.1902,  0.1800,  0.4769,  0.1048,  0.0539, -0.1073, -0.0456,\n",
      "         -0.3360, -0.0318],\n",
      "        [-0.0784,  0.1295, -0.1170, -0.1175, -0.1288, -0.1515,  0.2604, -0.1921,\n",
      "         -0.2225, -0.0990],\n",
      "        [-0.4086, -0.1730,  0.4730,  0.0109, -0.1333, -0.2626, -0.0933, -0.3228,\n",
      "         -0.1420, -0.0480],\n",
      "        [-0.5037, -0.2284, -0.0846, -0.1232, -0.1483, -0.1440, -0.1884, -0.4360,\n",
      "         -0.2026, -0.0034]], grad_fn=<AddmmBackward0>)\n",
      "tensor([9, 3, 6, 2, 9])\n"
     ]
    }
   ],
   "source": [
    "model = MultiLayerPerceptron(\n",
    "    nin = 28*28,                # Image size is 28x28\n",
    "    nhidden = 128,   # Larger hidden layer\n",
    "    nout=10                     # 10 possible classes\n",
    ")\n",
    "\n",
    "input_img = torch.randn(5,1, 28, 28)\n",
    "\n",
    "out = model(input_img)\n",
    "print(out)\n",
    "out = torch.argmax(out,dim=1)\n",
    "print(out)"
   ]
  }
 ],
 "metadata": {
  "kernelspec": {
   "display_name": ".venv",
   "language": "python",
   "name": "python3"
  },
  "language_info": {
   "codemirror_mode": {
    "name": "ipython",
    "version": 3
   },
   "file_extension": ".py",
   "mimetype": "text/x-python",
   "name": "python",
   "nbconvert_exporter": "python",
   "pygments_lexer": "ipython3",
   "version": "3.12.4"
  }
 },
 "nbformat": 4,
 "nbformat_minor": 2
}
