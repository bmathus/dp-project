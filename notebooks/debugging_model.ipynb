{
 "cells": [
  {
   "cell_type": "code",
   "execution_count": 1,
   "metadata": {},
   "outputs": [
    {
     "name": "stdout",
     "output_type": "stream",
     "text": [
      "/Users/matusbojko/Desktop/dp-project\n"
     ]
    },
    {
     "name": "stderr",
     "output_type": "stream",
     "text": [
      "/Users/matusbojko/Desktop/dp-project/.venv/lib/python3.12/site-packages/IPython/core/magics/osm.py:417: UserWarning: This is now an optional IPython functionality, setting dhist requires you to install the `pickleshare` library.\n",
      "  self.shell.db['dhist'] = compress_dhist(dhist)[-100:]\n"
     ]
    }
   ],
   "source": [
    "%cd .."
   ]
  },
  {
   "cell_type": "code",
   "execution_count": 2,
   "metadata": {},
   "outputs": [],
   "source": [
    "from project.models.unet_urpc import ConvBlock,DownBlock,UNet_URPC\n",
    "from torchsummary import summary\n",
    "import torch"
   ]
  },
  {
   "cell_type": "code",
   "execution_count": 3,
   "metadata": {},
   "outputs": [
    {
     "name": "stdout",
     "output_type": "stream",
     "text": [
      "----------------------------------------------------------------\n",
      "        Layer (type)               Output Shape         Param #\n",
      "================================================================\n",
      "            Conv2d-1         [-1, 16, 512, 512]             448\n",
      "       BatchNorm2d-2         [-1, 16, 512, 512]              32\n",
      "         LeakyReLU-3         [-1, 16, 512, 512]               0\n",
      "           Dropout-4         [-1, 16, 512, 512]               0\n",
      "            Conv2d-5         [-1, 16, 512, 512]           2,320\n",
      "       BatchNorm2d-6         [-1, 16, 512, 512]              32\n",
      "         LeakyReLU-7         [-1, 16, 512, 512]               0\n",
      "         ConvBlock-8         [-1, 16, 512, 512]               0\n",
      "         MaxPool2d-9         [-1, 16, 256, 256]               0\n",
      "           Conv2d-10         [-1, 32, 256, 256]           4,640\n",
      "      BatchNorm2d-11         [-1, 32, 256, 256]              64\n",
      "        LeakyReLU-12         [-1, 32, 256, 256]               0\n",
      "          Dropout-13         [-1, 32, 256, 256]               0\n",
      "           Conv2d-14         [-1, 32, 256, 256]           9,248\n",
      "      BatchNorm2d-15         [-1, 32, 256, 256]              64\n",
      "        LeakyReLU-16         [-1, 32, 256, 256]               0\n",
      "        ConvBlock-17         [-1, 32, 256, 256]               0\n",
      "        DownBlock-18         [-1, 32, 256, 256]               0\n",
      "        MaxPool2d-19         [-1, 32, 128, 128]               0\n",
      "           Conv2d-20         [-1, 64, 128, 128]          18,496\n",
      "      BatchNorm2d-21         [-1, 64, 128, 128]             128\n",
      "        LeakyReLU-22         [-1, 64, 128, 128]               0\n",
      "          Dropout-23         [-1, 64, 128, 128]               0\n",
      "           Conv2d-24         [-1, 64, 128, 128]          36,928\n",
      "      BatchNorm2d-25         [-1, 64, 128, 128]             128\n",
      "        LeakyReLU-26         [-1, 64, 128, 128]               0\n",
      "        ConvBlock-27         [-1, 64, 128, 128]               0\n",
      "        DownBlock-28         [-1, 64, 128, 128]               0\n",
      "        MaxPool2d-29           [-1, 64, 64, 64]               0\n",
      "           Conv2d-30          [-1, 128, 64, 64]          73,856\n",
      "      BatchNorm2d-31          [-1, 128, 64, 64]             256\n",
      "        LeakyReLU-32          [-1, 128, 64, 64]               0\n",
      "          Dropout-33          [-1, 128, 64, 64]               0\n",
      "           Conv2d-34          [-1, 128, 64, 64]         147,584\n",
      "      BatchNorm2d-35          [-1, 128, 64, 64]             256\n",
      "        LeakyReLU-36          [-1, 128, 64, 64]               0\n",
      "        ConvBlock-37          [-1, 128, 64, 64]               0\n",
      "        DownBlock-38          [-1, 128, 64, 64]               0\n",
      "        MaxPool2d-39          [-1, 128, 32, 32]               0\n",
      "           Conv2d-40          [-1, 256, 32, 32]         295,168\n",
      "      BatchNorm2d-41          [-1, 256, 32, 32]             512\n",
      "        LeakyReLU-42          [-1, 256, 32, 32]               0\n",
      "          Dropout-43          [-1, 256, 32, 32]               0\n",
      "           Conv2d-44          [-1, 256, 32, 32]         590,080\n",
      "      BatchNorm2d-45          [-1, 256, 32, 32]             512\n",
      "        LeakyReLU-46          [-1, 256, 32, 32]               0\n",
      "        ConvBlock-47          [-1, 256, 32, 32]               0\n",
      "        DownBlock-48          [-1, 256, 32, 32]               0\n",
      "          Encoder-49  [[-1, 16, 512, 512], [-1, 32, 256, 256], [-1, 64, 128, 128], [-1, 128, 64, 64], [-1, 256, 32, 32]]               0\n",
      "           Conv2d-50          [-1, 128, 32, 32]          32,896\n",
      "         Upsample-51          [-1, 128, 64, 64]               0\n",
      "           Conv2d-52          [-1, 128, 64, 64]         295,040\n",
      "      BatchNorm2d-53          [-1, 128, 64, 64]             256\n",
      "        LeakyReLU-54          [-1, 128, 64, 64]               0\n",
      "          Dropout-55          [-1, 128, 64, 64]               0\n",
      "           Conv2d-56          [-1, 128, 64, 64]         147,584\n",
      "      BatchNorm2d-57          [-1, 128, 64, 64]             256\n",
      "        LeakyReLU-58          [-1, 128, 64, 64]               0\n",
      "        ConvBlock-59          [-1, 128, 64, 64]               0\n",
      "          UpBlock-60          [-1, 128, 64, 64]               0\n",
      "           Conv2d-61            [-1, 5, 64, 64]           5,765\n",
      "           Conv2d-62           [-1, 64, 64, 64]           8,256\n",
      "         Upsample-63         [-1, 64, 128, 128]               0\n",
      "           Conv2d-64         [-1, 64, 128, 128]          73,792\n",
      "      BatchNorm2d-65         [-1, 64, 128, 128]             128\n",
      "        LeakyReLU-66         [-1, 64, 128, 128]               0\n",
      "          Dropout-67         [-1, 64, 128, 128]               0\n",
      "           Conv2d-68         [-1, 64, 128, 128]          36,928\n",
      "      BatchNorm2d-69         [-1, 64, 128, 128]             128\n",
      "        LeakyReLU-70         [-1, 64, 128, 128]               0\n",
      "        ConvBlock-71         [-1, 64, 128, 128]               0\n",
      "          UpBlock-72         [-1, 64, 128, 128]               0\n",
      "           Conv2d-73          [-1, 5, 128, 128]           2,885\n",
      "           Conv2d-74         [-1, 32, 128, 128]           2,080\n",
      "         Upsample-75         [-1, 32, 256, 256]               0\n",
      "           Conv2d-76         [-1, 32, 256, 256]          18,464\n",
      "      BatchNorm2d-77         [-1, 32, 256, 256]              64\n",
      "        LeakyReLU-78         [-1, 32, 256, 256]               0\n",
      "          Dropout-79         [-1, 32, 256, 256]               0\n",
      "           Conv2d-80         [-1, 32, 256, 256]           9,248\n",
      "      BatchNorm2d-81         [-1, 32, 256, 256]              64\n",
      "        LeakyReLU-82         [-1, 32, 256, 256]               0\n",
      "        ConvBlock-83         [-1, 32, 256, 256]               0\n",
      "          UpBlock-84         [-1, 32, 256, 256]               0\n",
      "     FeatureNoise-85         [-1, 32, 256, 256]               0\n",
      "           Conv2d-86          [-1, 5, 256, 256]           1,445\n",
      "           Conv2d-87         [-1, 16, 256, 256]             528\n",
      "         Upsample-88         [-1, 16, 512, 512]               0\n",
      "           Conv2d-89         [-1, 16, 512, 512]           4,624\n",
      "      BatchNorm2d-90         [-1, 16, 512, 512]              32\n",
      "        LeakyReLU-91         [-1, 16, 512, 512]               0\n",
      "          Dropout-92         [-1, 16, 512, 512]               0\n",
      "           Conv2d-93         [-1, 16, 512, 512]           2,320\n",
      "      BatchNorm2d-94         [-1, 16, 512, 512]              32\n",
      "        LeakyReLU-95         [-1, 16, 512, 512]               0\n",
      "        ConvBlock-96         [-1, 16, 512, 512]               0\n",
      "          UpBlock-97         [-1, 16, 512, 512]               0\n",
      "           Conv2d-98          [-1, 5, 512, 512]             725\n",
      "     Decoder_URPC-99  [[-1, 5, 512, 512], [-1, 5, 512, 512], [-1, 5, 512, 512], [-1, 5, 512, 512]]               0\n",
      "================================================================\n",
      "Total params: 1,824,292\n",
      "Trainable params: 1,824,292\n",
      "Non-trainable params: 0\n",
      "----------------------------------------------------------------\n",
      "Input size (MB): 3.00\n",
      "Forward/backward pass size (MB): 1185.28\n",
      "Params size (MB): 6.96\n",
      "Estimated Total Size (MB): 1195.24\n",
      "----------------------------------------------------------------\n"
     ]
    }
   ],
   "source": [
    "channels = 3\n",
    "height = 512\n",
    "width = 512\n",
    "\n",
    "random_tensor1 = torch.randn(1,channels, height, width)\n",
    "\n",
    "conv = ConvBlock(in_channels=3, out_channels=10,dropout_p=0.5)\n",
    "dovn =  DownBlock(3,10,0.5)\n",
    "\n",
    "UNET = UNet_URPC(3,5)\n",
    "\n",
    "\n",
    "summary(UNET,(3,512,512))\n"
   ]
  }
 ],
 "metadata": {
  "kernelspec": {
   "display_name": ".venv",
   "language": "python",
   "name": "python3"
  },
  "language_info": {
   "codemirror_mode": {
    "name": "ipython",
    "version": 3
   },
   "file_extension": ".py",
   "mimetype": "text/x-python",
   "name": "python",
   "nbconvert_exporter": "python",
   "pygments_lexer": "ipython3",
   "version": "3.11.6"
  }
 },
 "nbformat": 4,
 "nbformat_minor": 2
}
