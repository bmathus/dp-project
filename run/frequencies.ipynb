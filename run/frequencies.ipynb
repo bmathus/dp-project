{
 "cells": [
  {
   "cell_type": "code",
   "execution_count": 1,
   "id": "5bec5691",
   "metadata": {},
   "outputs": [
    {
     "name": "stdout",
     "output_type": "stream",
     "text": [
      "/Users/matusbojko/Desktop/DP/dp-project\n",
      "LICENSE           \u001b[1m\u001b[36mdata\u001b[m\u001b[m/             \u001b[1m\u001b[36mproject\u001b[m\u001b[m/          \u001b[1m\u001b[36mvenv\u001b[m\u001b[m/\n",
      "README.md         main.ipynb        requirements.txt\n",
      "\u001b[1m\u001b[36mconfig\u001b[m\u001b[m/           \u001b[31mprepare.sh\u001b[m\u001b[m*       \u001b[1m\u001b[36mrun\u001b[m\u001b[m/\n"
     ]
    },
    {
     "name": "stderr",
     "output_type": "stream",
     "text": [
      "/Users/matusbojko/Desktop/DP/dp-project/venv/lib/python3.10/site-packages/IPython/core/magics/osm.py:417: UserWarning: This is now an optional IPython functionality, setting dhist requires you to install the `pickleshare` library.\n",
      "  self.shell.db['dhist'] = compress_dhist(dhist)[-100:]\n"
     ]
    }
   ],
   "source": [
    "%cd ..\n",
    "%ls"
   ]
  },
  {
   "cell_type": "code",
   "execution_count": null,
   "id": "bf0e0fa9",
   "metadata": {},
   "outputs": [],
   "source": [
    "from project.datamodule import BaseDataSets, RandomGenerator,TwoStreamBatchSampler,patients_to_slices\n",
    "from project.utils import worker_init_fn\n",
    "from torch.utils.data import DataLoader\n",
    "from torchvision import transforms\n",
    "import torch\n",
    "import random\n",
    "import numpy as np"
   ]
  },
  {
   "cell_type": "code",
   "execution_count": 3,
   "id": "a5dfcc9a",
   "metadata": {},
   "outputs": [
    {
     "name": "stdout",
     "output_type": "stream",
     "text": [
      "| Labeled samples: 5.0%\n"
     ]
    }
   ],
   "source": [
    "random.seed(1337)\n",
    "np.random.seed(1337)\n",
    "torch.manual_seed(1337)\n",
    "torch.cuda.manual_seed(1337)\n",
    "torch.mps.manual_seed(1337)\n",
    "\n",
    "\n",
    "db_train = BaseDataSets(base_dir=\"./data/ACDC\", split=\"train\", num=None, transform=transforms.Compose([\n",
    "    RandomGenerator([256, 256])\n",
    "]))\n",
    "\n",
    "db_val = BaseDataSets(base_dir=\"./data/ACDC\", split=\"val\")\n",
    "\n",
    "total_slices = len(db_train)\n",
    "labeled_slice = patients_to_slices(\"ACDC\", 7)\n",
    "labeled_idxs = list(range(0, labeled_slice))\n",
    "unlabeled_idxs = list(range(labeled_slice, total_slices))\n",
    "\n",
    "batch_sampler = TwoStreamBatchSampler(labeled_idxs, unlabeled_idxs, 24, 24-12)\n",
    "\n",
    "trainloader = DataLoader(db_train,num_workers=4,batch_size=1, pin_memory=True, worker_init_fn=worker_init_fn)\n",
    "valloader = DataLoader(db_val, batch_size=1, shuffle=False,num_workers=1)"
   ]
  },
  {
   "cell_type": "code",
   "execution_count": 4,
   "id": "b340541f",
   "metadata": {},
   "outputs": [],
   "source": [
    "def compute_class_pixel_distribution(trainloader, num_classes):\n",
    "    print(\"| Computing class pixel distribution...\")\n",
    "\n",
    "    class_counts = np.zeros(num_classes, dtype=np.int64)\n",
    "    total_pixels = 0\n",
    "\n",
    "    for batch in trainloader:\n",
    "        label = batch[\"label\"]  # shape: [1, H, W]\n",
    "        label = label.long().squeeze(0)  # shape: [H, W]\n",
    "\n",
    "        for c in range(num_classes):\n",
    "            class_counts[c] += torch.sum(label == c).item()\n",
    "\n",
    "        total_pixels += label.numel()\n",
    "\n",
    "    class_freqs = class_counts / total_pixels\n",
    "    print(\"| Class pixel counts:\", class_counts)\n",
    "    print(\"| Class frequencies:\", class_freqs)\n",
    "\n",
    "    return class_freqs\n",
    "\n",
    "\n",
    "def get_alpha_from_freqs(freqs):\n",
    "    inv_freqs = 1.0 / (freqs + 1e-6)  # Avoid division by zero\n",
    "    alpha = inv_freqs / np.sum(inv_freqs)  # Normalize\n",
    "    print(\"| Computed alpha (class weights):\", alpha)\n",
    "    return alpha.tolist()\n"
   ]
  },
  {
   "cell_type": "code",
   "execution_count": 5,
   "id": "1c9bd91c",
   "metadata": {},
   "outputs": [
    {
     "name": "stdout",
     "output_type": "stream",
     "text": [
      "| Computing class pixel distribution...\n"
     ]
    },
    {
     "name": "stderr",
     "output_type": "stream",
     "text": [
      "/Users/matusbojko/Desktop/DP/dp-project/venv/lib/python3.10/site-packages/torch/utils/data/dataloader.py:683: UserWarning: 'pin_memory' argument is set as true but not supported on MPS now, then device pinned memory won't be used.\n",
      "  warnings.warn(warn_msg)\n"
     ]
    },
    {
     "name": "stdout",
     "output_type": "stream",
     "text": [
      "| Class pixel counts: [82696537  1059178  1115352  1112165]\n",
      "| Class frequencies: [0.96177516 0.01231843 0.01297174 0.01293467]\n",
      "| Computed alpha (class weights): [0.00439447 0.34307564 0.32579818 0.32673171]\n"
     ]
    }
   ],
   "source": [
    "num_classes = 4  # ACDC has 4 classes: background, RV, MYO, LV\n",
    "\n",
    "freqs = compute_class_pixel_distribution(trainloader, num_classes)\n",
    "alpha = get_alpha_from_freqs(freqs)"
   ]
  }
 ],
 "metadata": {
  "kernelspec": {
   "display_name": "venv",
   "language": "python",
   "name": "python3"
  },
  "language_info": {
   "codemirror_mode": {
    "name": "ipython",
    "version": 3
   },
   "file_extension": ".py",
   "mimetype": "text/x-python",
   "name": "python",
   "nbconvert_exporter": "python",
   "pygments_lexer": "ipython3",
   "version": "3.10.14"
  }
 },
 "nbformat": 4,
 "nbformat_minor": 5
}
