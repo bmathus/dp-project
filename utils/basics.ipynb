{
 "cells": [
  {
   "cell_type": "code",
   "execution_count": 1,
   "metadata": {},
   "outputs": [],
   "source": [
    "import torch\n",
    "from torch import nn\n",
    "import numpy as np"
   ]
  },
  {
   "cell_type": "code",
   "execution_count": 2,
   "metadata": {},
   "outputs": [
    {
     "data": {
      "text/plain": [
       "torch.Size([2, 3, 3])"
      ]
     },
     "execution_count": 2,
     "metadata": {},
     "output_type": "execute_result"
    }
   ],
   "source": [
    "data = [\n",
    "    [[1,2,3],\n",
    "    [3,4,3],\n",
    "    [3,4,3]],\n",
    "    \n",
    "    [[1,2,3],\n",
    "    [3,4,3],\n",
    "    [3,4,3]]\n",
    "    ]\n",
    "\n",
    "d = torch.tensor(data)\n",
    "\n",
    "d.shape\n"
   ]
  },
  {
   "cell_type": "code",
   "execution_count": 17,
   "metadata": {},
   "outputs": [],
   "source": [
    "channels = 3\n",
    "height = 572\n",
    "width = 572\n",
    "\n",
    "random_tensor = torch.randn(channels, height, width)"
   ]
  },
  {
   "cell_type": "code",
   "execution_count": 14,
   "metadata": {},
   "outputs": [
    {
     "data": {
      "text/plain": [
       "torch.Size([64, 284, 284])"
      ]
     },
     "execution_count": 14,
     "metadata": {},
     "output_type": "execute_result"
    }
   ],
   "source": [
    "conv_layer = nn.Conv2d(3,64,(3,3),stride=1,padding=0)\n",
    "\n",
    "\n",
    "max_pool = nn.MaxPool2d((2,2),stride=2)\n",
    "\n",
    "out = conv_layer(random_tensor)\n",
    "\n",
    "out = max_pool(out)\n",
    "\n",
    "out.shape\n"
   ]
  },
  {
   "cell_type": "code",
   "execution_count": 18,
   "metadata": {},
   "outputs": [
    {
     "data": {
      "text/plain": [
       "torch.Size([64, 568, 568])"
      ]
     },
     "execution_count": 18,
     "metadata": {},
     "output_type": "execute_result"
    }
   ],
   "source": [
    "\n",
    "\n",
    "block = nn.Sequential(\n",
    "            nn.Conv2d(3,64,(3,3),stride=1,padding=0),\n",
    "            nn.Conv2d(64,64,(3,3),stride=1, padding=0)\n",
    "        )\n",
    "\n",
    "out = block(random_tensor)\n",
    "\n",
    "out.shape"
   ]
  },
  {
   "cell_type": "code",
   "execution_count": 25,
   "metadata": {},
   "outputs": [
    {
     "data": {
      "text/plain": [
       "'run-c6c8e0fc'"
      ]
     },
     "execution_count": 25,
     "metadata": {},
     "output_type": "execute_result"
    }
   ],
   "source": [
    "import hashlib\n",
    "import time\n",
    "import uuid\n",
    "\n",
    "\n",
    "\n",
    "\"run-\"+str(uuid.uuid4())[:8]"
   ]
  }
 ],
 "metadata": {
  "kernelspec": {
   "display_name": ".venv",
   "language": "python",
   "name": "python3"
  },
  "language_info": {
   "codemirror_mode": {
    "name": "ipython",
    "version": 3
   },
   "file_extension": ".py",
   "mimetype": "text/x-python",
   "name": "python",
   "nbconvert_exporter": "python",
   "pygments_lexer": "ipython3",
   "version": "3.12.4"
  }
 },
 "nbformat": 4,
 "nbformat_minor": 2
}
